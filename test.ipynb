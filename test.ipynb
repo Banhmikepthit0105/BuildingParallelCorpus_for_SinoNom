{
 "cells": [
  {
   "cell_type": "code",
   "id": "initial_id",
   "metadata": {
    "collapsed": true,
    "ExecuteTime": {
     "end_time": "2024-11-29T19:38:59.274071Z",
     "start_time": "2024-11-29T19:38:59.262448Z"
    }
   },
   "source": [
    "import opencc\n",
    "import re\n",
    "\n",
    "converter = opencc.OpenCC('t2s')\n",
    "\n",
    "def process_and_convert_to_simplified(text):\n",
    "    \"\"\"\n",
    "    Xử lý chuỗi để chỉ giữ lại các ký tự chữ Hán Phồn thể và chuyển sang Giản thể.\n",
    "    \"\"\"\n",
    "    # Lọc chỉ các ký tự chữ Hán (Unicode CJK Unified Ideographs: U+4E00 - U+9FFF)\n",
    "    chinese_only = re.findall(r'[\\u4e00-\\u9fff]', text)\n",
    "    # Ghép lại các ký tự thành một chuỗi\n",
    "    chinese_text = ''.join(chinese_only)\n",
    "    # Chuyển đổi Phồn thể -> Giản thể\n",
    "    simplified_text = converter.convert(chinese_text)\n",
    "    return simplified_text"
   ],
   "outputs": [],
   "execution_count": 2
  },
  {
   "metadata": {
    "ExecuteTime": {
     "end_time": "2024-11-29T19:39:21.707168Z",
     "start_time": "2024-11-29T19:39:21.690799Z"
    }
   },
   "cell_type": "code",
   "source": [
    "text = \"混沌未分天地乱，茫茫渺渺无人见。\"\n",
    "processed_ocr_text = process_and_convert_to_simplified(text)"
   ],
   "id": "6336949f5c5f32de",
   "outputs": [],
   "execution_count": 3
  },
  {
   "metadata": {
    "ExecuteTime": {
     "end_time": "2024-11-29T19:39:25.514869Z",
     "start_time": "2024-11-29T19:39:25.505939Z"
    }
   },
   "cell_type": "code",
   "source": "print(processed_ocr_text)",
   "id": "1ab57f6f334c3f7d",
   "outputs": [
    {
     "name": "stdout",
     "output_type": "stream",
     "text": [
      "混沌未分天地乱茫茫渺渺无人见\n"
     ]
    }
   ],
   "execution_count": 4
  },
  {
   "metadata": {},
   "cell_type": "code",
   "outputs": [],
   "execution_count": null,
   "source": "",
   "id": "619dbdb885da4f26"
  }
 ],
 "metadata": {
  "kernelspec": {
   "display_name": "Python 3",
   "language": "python",
   "name": "python3"
  },
  "language_info": {
   "codemirror_mode": {
    "name": "ipython",
    "version": 2
   },
   "file_extension": ".py",
   "mimetype": "text/x-python",
   "name": "python",
   "nbconvert_exporter": "python",
   "pygments_lexer": "ipython2",
   "version": "2.7.6"
  }
 },
 "nbformat": 4,
 "nbformat_minor": 5
}
